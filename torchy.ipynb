{
  "nbformat": 4,
  "nbformat_minor": 0,
  "metadata": {
    "colab": {
      "provenance": [],
      "gpuType": "V28",
      "include_colab_link": true
    },
    "kernelspec": {
      "name": "python3",
      "display_name": "Python 3"
    },
    "language_info": {
      "name": "python"
    },
    "accelerator": "TPU"
  },
  "cells": [
    {
      "cell_type": "markdown",
      "metadata": {
        "id": "view-in-github",
        "colab_type": "text"
      },
      "source": [
        "<a href=\"https://colab.research.google.com/github/midnight-koffee/mlneuro-learning/blob/main/torchy.ipynb\" target=\"_parent\"><img src=\"https://colab.research.google.com/assets/colab-badge.svg\" alt=\"Open In Colab\"/></a>"
      ]
    },
    {
      "cell_type": "code",
      "source": [
        "# Remove any existing clone\n",
        "!rm -rf /content/mlneuro-learning\n",
        "!rm -rf /content/mlneuro-learning/mlneuro-learning\n",
        "!rm -rf /content/MLNeuro-Learning\n",
        "!ls /content\n"
      ],
      "metadata": {
        "colab": {
          "base_uri": "https://localhost:8080/"
        },
        "id": "JSETZC7N7xmh",
        "outputId": "52ad4c78-fedf-45fd-9eda-ac5f12a4136e"
      },
      "execution_count": null,
      "outputs": [
        {
          "output_type": "stream",
          "name": "stdout",
          "text": [
            "sample_data\n"
          ]
        }
      ]
    },
    {
      "cell_type": "code",
      "source": [
        "import getpass\n",
        "\n",
        "# Securely get GitHub token\n",
        "token = getpass.getpass(\"Enter your GitHub token: \")\n",
        "username = \"midnight-koffee\"\n",
        "repo_name = \"mlneuro-learning\"\n",
        "repo_url = f\"https://{token}@github.com/{username}/{repo_name}.git\"\n",
        "\n",
        "# Clone repo\n",
        "!git clone {repo_url} /content/{repo_name}\n",
        "%cd /content/{repo_name}\n"
      ],
      "metadata": {
        "id": "Lz54d4hVMJIA",
        "outputId": "78b48b44-b4a4-456e-afe8-512803dd6be2",
        "colab": {
          "base_uri": "https://localhost:8080/"
        }
      },
      "execution_count": null,
      "outputs": [
        {
          "output_type": "stream",
          "name": "stdout",
          "text": [
            "Enter your GitHub token: ··········\n",
            "Cloning into '/content/mlneuro-learning'...\n",
            "remote: Enumerating objects: 31, done.\u001b[K\n",
            "remote: Counting objects: 100% (31/31), done.\u001b[K\n",
            "remote: Compressing objects: 100% (21/21), done.\u001b[K\n",
            "remote: Total 31 (delta 11), reused 17 (delta 3), pack-reused 0 (from 0)\u001b[K\n",
            "Receiving objects: 100% (31/31), 9.72 KiB | 9.72 MiB/s, done.\n",
            "Resolving deltas: 100% (11/11), done.\n",
            "/content/mlneuro-learning\n"
          ]
        }
      ]
    },
    {
      "cell_type": "code",
      "source": [
        "!git config --global user.email \"debu.chatra@gmail.com\"\n",
        "!git config --global user.name \"midnight-koffee\"\n",
        "!git status\n"
      ],
      "metadata": {
        "colab": {
          "base_uri": "https://localhost:8080/"
        },
        "id": "iaqV4hyDcyk1",
        "outputId": "d447fefe-8e2a-4304-ea63-22b44302f443"
      },
      "execution_count": null,
      "outputs": [
        {
          "output_type": "stream",
          "name": "stdout",
          "text": [
            "On branch main\n",
            "Your branch is up to date with 'origin/main'.\n",
            "\n",
            "nothing to commit, working tree clean\n"
          ]
        }
      ]
    },
    {
      "cell_type": "code",
      "execution_count": null,
      "metadata": {
        "id": "xxJVjdb60XTi"
      },
      "outputs": [],
      "source": [
        "# Example: Append a line to log.txt\n",
        "with open(\"log.txt\", \"a\") as f:\n",
        "    f.write(\"New line from Colab.\\n\")\n"
      ]
    },
    {
      "cell_type": "code",
      "source": [
        "import torch"
      ],
      "metadata": {
        "id": "QsgV37-B017L"
      },
      "execution_count": null,
      "outputs": []
    },
    {
      "cell_type": "code",
      "source": [
        "tensor = torch.rand(3, 4) # This sends tensor to the T4 GPU\n",
        "\n",
        "\n",
        "print(f\"Shape of tensor: {tensor.shape}\")\n",
        "print(f\"Datatype of tensor: {tensor.dtype}\")\n",
        "print(f\"Device tensor is stored on: {tensor.device}\")"
      ],
      "metadata": {
        "colab": {
          "base_uri": "https://localhost:8080/"
        },
        "id": "jrhRP4nG02qf",
        "outputId": "fcbaf390-bfbe-4069-f711-70c4df0bf780"
      },
      "execution_count": null,
      "outputs": [
        {
          "output_type": "stream",
          "name": "stdout",
          "text": [
            "Shape of tensor: torch.Size([3, 4])\n",
            "Datatype of tensor: torch.float32\n",
            "Device tensor is stored on: cpu\n"
          ]
        }
      ]
    },
    {
      "cell_type": "code",
      "source": [],
      "metadata": {
        "id": "nsgWFNPv05oe"
      },
      "execution_count": null,
      "outputs": []
    },
    {
      "cell_type": "code",
      "source": [
        "!ls\n"
      ],
      "metadata": {
        "colab": {
          "base_uri": "https://localhost:8080/"
        },
        "id": "JteM8jhL7uCz",
        "outputId": "982c55df-02a4-4cfc-9d65-b2537e3a836f"
      },
      "execution_count": null,
      "outputs": [
        {
          "output_type": "stream",
          "name": "stdout",
          "text": [
            "code  log.txt  README.md  torchy.ipynb\n"
          ]
        }
      ]
    },
    {
      "cell_type": "code",
      "source": [
        "print(\"my name is anthony gonsalves\")"
      ],
      "metadata": {
        "colab": {
          "base_uri": "https://localhost:8080/"
        },
        "id": "Q-MCpALogRo1",
        "outputId": "3cf01bd8-aa65-455a-bb7e-d4475c89e0ab"
      },
      "execution_count": null,
      "outputs": [
        {
          "output_type": "stream",
          "name": "stdout",
          "text": [
            "my name is anthony gonsalves\n"
          ]
        }
      ]
    },
    {
      "cell_type": "code",
      "source": [
        "!git status"
      ],
      "metadata": {
        "colab": {
          "base_uri": "https://localhost:8080/"
        },
        "id": "uNXfdnmzgXLc",
        "outputId": "c71eb105-6469-4014-f7da-4221f789f031"
      },
      "execution_count": null,
      "outputs": [
        {
          "output_type": "stream",
          "name": "stdout",
          "text": [
            "On branch main\n",
            "Your branch is up to date with 'origin/main'.\n",
            "\n",
            "Changes not staged for commit:\n",
            "  (use \"git add <file>...\" to update what will be committed)\n",
            "  (use \"git restore <file>...\" to discard changes in working directory)\n",
            "\t\u001b[31mmodified:   log.txt\u001b[m\n",
            "\n",
            "no changes added to commit (use \"git add\" and/or \"git commit -a\")\n"
          ]
        }
      ]
    },
    {
      "cell_type": "code",
      "source": [
        "!git add ."
      ],
      "metadata": {
        "id": "89YlN2qZgcAH"
      },
      "execution_count": null,
      "outputs": []
    },
    {
      "cell_type": "code",
      "source": [
        "!git status"
      ],
      "metadata": {
        "colab": {
          "base_uri": "https://localhost:8080/"
        },
        "id": "DnDy8rONgesn",
        "outputId": "8d809a74-2fcc-4f0b-f76e-85a67972ffdc"
      },
      "execution_count": null,
      "outputs": [
        {
          "output_type": "stream",
          "name": "stdout",
          "text": [
            "On branch main\n",
            "Your branch is up to date with 'origin/main'.\n",
            "\n",
            "Changes to be committed:\n",
            "  (use \"git restore --staged <file>...\" to unstage)\n",
            "\t\u001b[32mmodified:   log.txt\u001b[m\n",
            "\n"
          ]
        }
      ]
    },
    {
      "cell_type": "code",
      "source": [
        "print(\"ye to asli change hai yar\")"
      ],
      "metadata": {
        "colab": {
          "base_uri": "https://localhost:8080/"
        },
        "id": "bb_g7_aB36z3",
        "outputId": "68ac8afb-fe17-4a3a-8f3d-dbf2e8d4cb99"
      },
      "execution_count": null,
      "outputs": [
        {
          "output_type": "stream",
          "name": "stdout",
          "text": [
            "ye to asli change hai yar\n"
          ]
        }
      ]
    },
    {
      "cell_type": "code",
      "source": [
        "!git status"
      ],
      "metadata": {
        "id": "G31QpxlT4Dnr",
        "outputId": "60a68fff-b36e-44ce-be6f-4f224302a648",
        "colab": {
          "base_uri": "https://localhost:8080/"
        }
      },
      "execution_count": null,
      "outputs": [
        {
          "output_type": "stream",
          "name": "stdout",
          "text": [
            "On branch main\n",
            "Your branch is up to date with 'origin/main'.\n",
            "\n",
            "Changes to be committed:\n",
            "  (use \"git restore --staged <file>...\" to unstage)\n",
            "\t\u001b[32mmodified:   log.txt\u001b[m\n",
            "\n"
          ]
        }
      ]
    },
    {
      "cell_type": "code",
      "source": [
        "import getpass\n",
        "\n",
        "# Get token again for pushing\n",
        "token = getpass.getpass(\"Enter GitHub token again for push: \")\n",
        "secure_url = f\"https://{token}@github.com/midnight-koffee/mlneuro-learning.git\"\n",
        "!git remote set-url origin {secure_url}\n",
        "\n",
        "!git add .\n",
        "!git commit -m \"Commit from Colab\"\n",
        "!git push\n"
      ],
      "metadata": {
        "id": "wSGeidJNdGtG"
      },
      "execution_count": null,
      "outputs": []
    },
    {
      "cell_type": "code",
      "source": [
        "import os"
      ],
      "metadata": {
        "id": "W4GlHzJKdJVt"
      },
      "execution_count": null,
      "outputs": []
    },
    {
      "cell_type": "code",
      "source": [
        "# Check Git version\n",
        "!git --version\n",
        "\n",
        "# Check Colab is using Python\n",
        "!which python\n",
        "\n",
        "# Try listing your content directory\n",
        "!ls /content\n",
        "\n",
        "# Git configuration (global)\n",
        "!git config --global --list\n"
      ],
      "metadata": {
        "id": "lgRp223UgHtP"
      },
      "execution_count": null,
      "outputs": []
    },
    {
      "cell_type": "code",
      "source": [
        "%cd /content/mlneuro-learning\n",
        "\n",
        "# Make a dummy change\n",
        "with open(\"log.txt\", \"a\") as f:\n",
        "    f.write(\"Colab push test.\\n\")\n",
        "\n",
        "# Check if Git sees the change\n",
        "!git status\n"
      ],
      "metadata": {
        "id": "7CpJ7C9WhokK"
      },
      "execution_count": null,
      "outputs": []
    },
    {
      "cell_type": "code",
      "source": [
        "import getpass\n",
        "\n",
        "# Prompt to enter your GitHub token\n",
        "token = getpass.getpass(\"Enter your GitHub token again for push: \")\n"
      ],
      "metadata": {
        "id": "DrPOyGVch34r"
      },
      "execution_count": null,
      "outputs": []
    },
    {
      "cell_type": "code",
      "source": [
        "# Set the remote URL using your token\n",
        "secure_url = f\"https://{token}@github.com/midnight-koffee/mlneuro-learning.git\"\n",
        "!git remote set-url origin {secure_url}\n",
        "\n",
        "# Stage the modified file\n",
        "!git add log.txt\n",
        "\n",
        "# Commit the change\n",
        "!git commit -m \"Test commit from Colab\"\n",
        "\n",
        "# Push to GitHub\n",
        "!git push\n"
      ],
      "metadata": {
        "id": "NZhGDTdEiDE4"
      },
      "execution_count": null,
      "outputs": []
    },
    {
      "cell_type": "code",
      "source": [
        "# Pull remote changes safely using rebase\n",
        "!git pull --rebase origin main\n"
      ],
      "metadata": {
        "id": "66FNOfoziMjq"
      },
      "execution_count": null,
      "outputs": []
    },
    {
      "cell_type": "code",
      "source": [
        "!git push\n"
      ],
      "metadata": {
        "id": "sN8W8oWcjHZI"
      },
      "execution_count": null,
      "outputs": []
    },
    {
      "cell_type": "code",
      "source": [
        "print(\"hola amigo\")"
      ],
      "metadata": {
        "id": "LQLCnBOqjRE_"
      },
      "execution_count": null,
      "outputs": []
    },
    {
      "cell_type": "code",
      "source": [
        "!git status"
      ],
      "metadata": {
        "id": "-t_J7hERj3Rd"
      },
      "execution_count": null,
      "outputs": []
    },
    {
      "cell_type": "code",
      "source": [
        "!git add torchy.ipynb"
      ],
      "metadata": {
        "id": "seSRDIgbj5A8"
      },
      "execution_count": null,
      "outputs": []
    },
    {
      "cell_type": "code",
      "source": [
        "print(\"hola amigo again babe\")"
      ],
      "metadata": {
        "id": "CbrX-L1QkC8J"
      },
      "execution_count": null,
      "outputs": []
    },
    {
      "cell_type": "code",
      "source": [
        "!git status"
      ],
      "metadata": {
        "id": "iH7hJpSBkNr2"
      },
      "execution_count": null,
      "outputs": []
    },
    {
      "cell_type": "code",
      "source": [
        "!ls"
      ],
      "metadata": {
        "id": "3PpP-0HBkPN4"
      },
      "execution_count": null,
      "outputs": []
    },
    {
      "cell_type": "code",
      "source": [
        "%cd /content/mlneuro-learning"
      ],
      "metadata": {
        "id": "iHQkZEMmkYVz"
      },
      "execution_count": null,
      "outputs": []
    },
    {
      "cell_type": "code",
      "source": [
        "print(\"abrakadabra\")"
      ],
      "metadata": {
        "id": "BxxgEZfeka_k"
      },
      "execution_count": null,
      "outputs": []
    },
    {
      "cell_type": "code",
      "source": [
        "!git status"
      ],
      "metadata": {
        "id": "-GaYnKU8ke90"
      },
      "execution_count": null,
      "outputs": []
    },
    {
      "cell_type": "code",
      "source": [
        "import os\n",
        "print(os.getcwd())\n",
        "!ls -l\n"
      ],
      "metadata": {
        "colab": {
          "base_uri": "https://localhost:8080/"
        },
        "id": "xmjKkS4skgF0",
        "outputId": "7945abac-8f29-46d6-d85d-b3647017631d"
      },
      "execution_count": null,
      "outputs": [
        {
          "output_type": "stream",
          "name": "stdout",
          "text": [
            "/content/mlneuro-learning\n",
            "total 32\n",
            "drwxr-xr-x 3 root root  4096 May 27 17:48 code\n",
            "-rw-r--r-- 1 root root    59 May 27 17:49 log.txt\n",
            "-rw-r--r-- 1 root root    22 May 27 17:48 README.md\n",
            "-rw-r--r-- 1 root root 18778 May 27 17:48 torchy.ipynb\n"
          ]
        }
      ]
    },
    {
      "cell_type": "code",
      "source": [
        "!grep \"hola amigo\" torchy.ipynb\n"
      ],
      "metadata": {
        "id": "04Yiu5UJ4wfu"
      },
      "execution_count": null,
      "outputs": []
    },
    {
      "cell_type": "code",
      "source": [
        "from google.colab import output\n",
        "output.eval_js('window.open(\"/content/mlneuro-learning/torchy.ipynb\", \"_blank\")')\n"
      ],
      "metadata": {
        "id": "bxc_nARY48XG"
      },
      "execution_count": null,
      "outputs": []
    },
    {
      "cell_type": "code",
      "source": [
        "print(\"i am to go there\")"
      ],
      "metadata": {
        "id": "p-KnbXA46FoO",
        "outputId": "6b081adc-16fd-4f01-c4aa-3ce58c1189d8",
        "colab": {
          "base_uri": "https://localhost:8080/"
        }
      },
      "execution_count": 1,
      "outputs": [
        {
          "output_type": "stream",
          "name": "stdout",
          "text": [
            "i am to go there\n"
          ]
        }
      ]
    },
    {
      "cell_type": "code",
      "source": [
        " !git status"
      ],
      "metadata": {
        "id": "LU4BPuNl-giF",
        "outputId": "a05fcfdf-3398-4f95-a4bc-681ccebfa00f",
        "colab": {
          "base_uri": "https://localhost:8080/"
        }
      },
      "execution_count": 2,
      "outputs": [
        {
          "output_type": "stream",
          "name": "stdout",
          "text": [
            "fatal: not a git repository (or any of the parent directories): .git\n"
          ]
        }
      ]
    },
    {
      "cell_type": "code",
      "source": [
        "print(\"let's see if the following change is automatically saved in github or not\")"
      ],
      "metadata": {
        "id": "Z3ng6bXj-kw6"
      },
      "execution_count": null,
      "outputs": []
    }
  ]
}