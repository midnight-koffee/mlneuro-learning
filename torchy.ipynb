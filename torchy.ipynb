{
  "nbformat": 4,
  "nbformat_minor": 0,
  "metadata": {
    "colab": {
      "provenance": [],
      "gpuType": "T4",
      "authorship_tag": "ABX9TyOCPJT7b4c7gzaGZARLD3yX",
      "include_colab_link": true
    },
    "kernelspec": {
      "name": "python3",
      "display_name": "Python 3"
    },
    "language_info": {
      "name": "python"
    },
    "accelerator": "GPU"
  },
  "cells": [
    {
      "cell_type": "markdown",
      "metadata": {
        "id": "view-in-github",
        "colab_type": "text"
      },
      "source": [
        "<a href=\"https://colab.research.google.com/github/midnight-koffee/mlneuro-learning/blob/main/torchy.ipynb\" target=\"_parent\"><img src=\"https://colab.research.google.com/assets/colab-badge.svg\" alt=\"Open In Colab\"/></a>"
      ]
    },
    {
      "cell_type": "code",
      "source": [
        "# Remove any existing clone\n",
        "!rm -rf /content/mlneuro-learning\n",
        "!rm -rf /content/mlneuro-learning/mlneuro-learning\n",
        "!rm -rf /content/MLNeuro-Learning\n",
        "!ls /content\n"
      ],
      "metadata": {
        "colab": {
          "base_uri": "https://localhost:8080/"
        },
        "id": "JSETZC7N7xmh",
        "outputId": "53ab61f6-29ae-47bb-f3f8-711e463ae3aa"
      },
      "execution_count": 116,
      "outputs": [
        {
          "output_type": "stream",
          "name": "stdout",
          "text": [
            "sample_data\n"
          ]
        }
      ]
    },
    {
      "cell_type": "code",
      "source": [
        "import getpass\n",
        "\n",
        "# Securely get GitHub token\n",
        "token = getpass.getpass(\"Enter your GitHub token: \")\n",
        "username = \"midnight-koffee\"\n",
        "repo_name = \"mlneuro-learning\"\n",
        "repo_url = f\"https://{token}@github.com/{username}/{repo_name}.git\"\n",
        "\n",
        "# Clone repo\n",
        "!git clone {repo_url} /content/{repo_name}\n",
        "%cd /content/{repo_name}\n"
      ],
      "metadata": {
        "id": "Lz54d4hVMJIA",
        "outputId": "01ac070f-3542-47c8-bfc2-a837ecda98b0",
        "colab": {
          "base_uri": "https://localhost:8080/"
        }
      },
      "execution_count": 117,
      "outputs": [
        {
          "output_type": "stream",
          "name": "stdout",
          "text": [
            "Enter your GitHub token: ··········\n",
            "Cloning into '/content/mlneuro-learning'...\n",
            "remote: Enumerating objects: 19, done.\u001b[K\n",
            "remote: Counting objects: 100% (19/19), done.\u001b[K\n",
            "remote: Compressing objects: 100% (13/13), done.\u001b[K\n",
            "Receiving objects: 100% (19/19), 5.50 KiB | 5.50 MiB/s, done.\n",
            "Resolving deltas: 100% (5/5), done.\n",
            "remote: Total 19 (delta 5), reused 11 (delta 1), pack-reused 0 (from 0)\u001b[K\n",
            "/content/mlneuro-learning\n"
          ]
        }
      ]
    },
    {
      "cell_type": "code",
      "source": [
        "!git config --global user.email \"debu.chatra@gmail.com\"\n",
        "!git config --global user.name \"midnight-koffee\"\n",
        "!git status\n"
      ],
      "metadata": {
        "id": "iaqV4hyDcyk1",
        "outputId": "bd6e4331-750d-4de0-82de-bd577d46ecbc",
        "colab": {
          "base_uri": "https://localhost:8080/"
        }
      },
      "execution_count": 118,
      "outputs": [
        {
          "output_type": "stream",
          "name": "stdout",
          "text": [
            "On branch main\n",
            "Your branch is up to date with 'origin/main'.\n",
            "\n",
            "nothing to commit, working tree clean\n"
          ]
        }
      ]
    },
    {
      "cell_type": "code",
      "execution_count": 119,
      "metadata": {
        "id": "xxJVjdb60XTi"
      },
      "outputs": [],
      "source": [
        "# Example: Append a line to log.txt\n",
        "with open(\"log.txt\", \"a\") as f:\n",
        "    f.write(\"New line from Colab.\\n\")\n"
      ]
    },
    {
      "cell_type": "code",
      "source": [
        "import torch"
      ],
      "metadata": {
        "id": "QsgV37-B017L"
      },
      "execution_count": 120,
      "outputs": []
    },
    {
      "cell_type": "code",
      "source": [
        "tensor = torch.rand(3, 4).to(\"cuda\")  # This sends tensor to the T4 GPU\n",
        "\n",
        "\n",
        "print(f\"Shape of tensor: {tensor.shape}\")\n",
        "print(f\"Datatype of tensor: {tensor.dtype}\")\n",
        "print(f\"Device tensor is stored on: {tensor.device}\")"
      ],
      "metadata": {
        "colab": {
          "base_uri": "https://localhost:8080/"
        },
        "id": "jrhRP4nG02qf",
        "outputId": "31fcf1d5-7112-4a9b-c807-5cd2b52d5b84"
      },
      "execution_count": 121,
      "outputs": [
        {
          "output_type": "stream",
          "name": "stdout",
          "text": [
            "Shape of tensor: torch.Size([3, 4])\n",
            "Datatype of tensor: torch.float32\n",
            "Device tensor is stored on: cuda:0\n"
          ]
        }
      ]
    },
    {
      "cell_type": "code",
      "source": [
        "import time\n",
        "\n",
        "# Big tensor on CPU\n",
        "a_cpu = torch.rand(5000, 5000)\n",
        "b_cpu = torch.rand(5000, 5000)\n",
        "\n",
        "start = time.time()\n",
        "c_cpu = a_cpu @ b_cpu\n",
        "print(\"CPU time:\", time.time() - start)\n",
        "\n",
        "# Big tensor on GPU\n",
        "a_gpu = a_cpu.to(\"cuda\")\n",
        "b_gpu = b_cpu.to(\"cuda\")\n",
        "\n",
        "start = time.time()\n",
        "c_gpu = a_gpu @ b_gpu\n",
        "torch.cuda.synchronize()  # Wait for GPU to finish\n",
        "print(\"GPU time:\", time.time() - start)\n"
      ],
      "metadata": {
        "colab": {
          "base_uri": "https://localhost:8080/"
        },
        "id": "nsgWFNPv05oe",
        "outputId": "4c1c5967-92e9-4c89-f986-691710abdb10"
      },
      "execution_count": 122,
      "outputs": [
        {
          "output_type": "stream",
          "name": "stdout",
          "text": [
            "CPU time: 3.2277517318725586\n",
            "GPU time: 0.08810567855834961\n"
          ]
        }
      ]
    },
    {
      "cell_type": "code",
      "source": [
        "!ls\n"
      ],
      "metadata": {
        "colab": {
          "base_uri": "https://localhost:8080/"
        },
        "id": "JteM8jhL7uCz",
        "outputId": "46c2a563-261e-4c7e-ebf8-cd12732f96f0"
      },
      "execution_count": 123,
      "outputs": [
        {
          "output_type": "stream",
          "name": "stdout",
          "text": [
            "code  log.txt  README.md  torchy.ipynb\n"
          ]
        }
      ]
    },
    {
      "cell_type": "code",
      "source": [
        "import getpass\n",
        "\n",
        "# Get token again for pushing\n",
        "token = getpass.getpass(\"Enter GitHub token again for push: \")\n",
        "secure_url = f\"https://{token}@github.com/midnight-koffee/mlneuro-learning.git\"\n",
        "!git remote set-url origin {secure_url}\n",
        "\n",
        "!git add .\n",
        "!git commit -m \"Commit from Colab\"\n",
        "!git push\n"
      ],
      "metadata": {
        "id": "wSGeidJNdGtG",
        "outputId": "afdbf5e5-a252-45c6-c3c6-1e753e1e48fb",
        "colab": {
          "base_uri": "https://localhost:8080/"
        }
      },
      "execution_count": 124,
      "outputs": [
        {
          "output_type": "stream",
          "name": "stdout",
          "text": [
            "Enter GitHub token again for push: ··········\n",
            "[main 4121c6e] Commit from Colab\n",
            " 1 file changed, 1 insertion(+)\n",
            " create mode 100644 log.txt\n",
            "Enumerating objects: 4, done.\n",
            "Counting objects: 100% (4/4), done.\n",
            "Delta compression using up to 2 threads\n",
            "Compressing objects: 100% (2/2), done.\n",
            "Writing objects: 100% (3/3), 292 bytes | 292.00 KiB/s, done.\n",
            "Total 3 (delta 1), reused 0 (delta 0), pack-reused 0\n",
            "remote: Resolving deltas: 100% (1/1), completed with 1 local object.\u001b[K\n",
            "To https://github.com/midnight-koffee/mlneuro-learning.git\n",
            "   9e437e9..4121c6e  main -> main\n"
          ]
        }
      ]
    },
    {
      "cell_type": "code",
      "source": [],
      "metadata": {
        "id": "W4GlHzJKdJVt"
      },
      "execution_count": null,
      "outputs": []
    }
  ]
}