{
  "nbformat": 4,
  "nbformat_minor": 0,
  "metadata": {
    "colab": {
      "provenance": [],
      "gpuType": "T4",
      "authorship_tag": "ABX9TyOfuSAkuWV+/ZbVMxFm79dl",
      "include_colab_link": true
    },
    "kernelspec": {
      "name": "python3",
      "display_name": "Python 3"
    },
    "language_info": {
      "name": "python"
    },
    "accelerator": "GPU"
  },
  "cells": [
    {
      "cell_type": "markdown",
      "metadata": {
        "id": "view-in-github",
        "colab_type": "text"
      },
      "source": [
        "<a href=\"https://colab.research.google.com/github/midnight-koffee/mlneuro-learning/blob/main/torchy.ipynb\" target=\"_parent\"><img src=\"https://colab.research.google.com/assets/colab-badge.svg\" alt=\"Open In Colab\"/></a>"
      ]
    },
    {
      "cell_type": "code",
      "source": [
        "!git clone https://github.com/midnight-koffee/mlneuro-learning.git\n",
        "%cd mlneuro-learning\n"
      ],
      "metadata": {
        "colab": {
          "base_uri": "https://localhost:8080/"
        },
        "id": "JSETZC7N7xmh",
        "outputId": "8295aa8a-3925-4146-f075-22973187b96e"
      },
      "execution_count": 7,
      "outputs": [
        {
          "output_type": "stream",
          "name": "stdout",
          "text": [
            "Cloning into 'mlneuro-learning'...\n",
            "remote: Enumerating objects: 13, done.\u001b[K\n",
            "remote: Counting objects: 100% (13/13), done.\u001b[K\n",
            "remote: Compressing objects: 100% (7/7), done.\u001b[K\n",
            "remote: Total 13 (delta 2), reused 12 (delta 1), pack-reused 0 (from 0)\u001b[K\n",
            "Receiving objects: 100% (13/13), done.\n",
            "Resolving deltas: 100% (2/2), done.\n",
            "/content/mlneuro-learning/mlneuro-learning\n"
          ]
        }
      ]
    },
    {
      "cell_type": "code",
      "execution_count": 1,
      "metadata": {
        "id": "xxJVjdb60XTi"
      },
      "outputs": [],
      "source": [
        "import numpy as np"
      ]
    },
    {
      "cell_type": "code",
      "source": [
        "import torch"
      ],
      "metadata": {
        "id": "QsgV37-B017L"
      },
      "execution_count": 2,
      "outputs": []
    },
    {
      "cell_type": "code",
      "source": [
        "tensor = torch.rand(3, 4).to(\"cuda\")  # This sends tensor to the T4 GPU\n",
        "\n",
        "\n",
        "print(f\"Shape of tensor: {tensor.shape}\")\n",
        "print(f\"Datatype of tensor: {tensor.dtype}\")\n",
        "print(f\"Device tensor is stored on: {tensor.device}\")"
      ],
      "metadata": {
        "colab": {
          "base_uri": "https://localhost:8080/"
        },
        "id": "jrhRP4nG02qf",
        "outputId": "6433b0f2-0eb4-448f-f267-20e5db8e7ea1"
      },
      "execution_count": 4,
      "outputs": [
        {
          "output_type": "stream",
          "name": "stdout",
          "text": [
            "Shape of tensor: torch.Size([3, 4])\n",
            "Datatype of tensor: torch.float32\n",
            "Device tensor is stored on: cuda:0\n"
          ]
        }
      ]
    },
    {
      "cell_type": "code",
      "source": [
        "import time\n",
        "\n",
        "# Big tensor on CPU\n",
        "a_cpu = torch.rand(5000, 5000)\n",
        "b_cpu = torch.rand(5000, 5000)\n",
        "\n",
        "start = time.time()\n",
        "c_cpu = a_cpu @ b_cpu\n",
        "print(\"CPU time:\", time.time() - start)\n",
        "\n",
        "# Big tensor on GPU\n",
        "a_gpu = a_cpu.to(\"cuda\")\n",
        "b_gpu = b_cpu.to(\"cuda\")\n",
        "\n",
        "start = time.time()\n",
        "c_gpu = a_gpu @ b_gpu\n",
        "torch.cuda.synchronize()  # Wait for GPU to finish\n",
        "print(\"GPU time:\", time.time() - start)\n"
      ],
      "metadata": {
        "colab": {
          "base_uri": "https://localhost:8080/"
        },
        "id": "nsgWFNPv05oe",
        "outputId": "346c1d6a-23af-4c01-a61d-50cdceac3e70"
      },
      "execution_count": 5,
      "outputs": [
        {
          "output_type": "stream",
          "name": "stdout",
          "text": [
            "CPU time: 2.115372657775879\n",
            "GPU time: 0.2096703052520752\n"
          ]
        }
      ]
    },
    {
      "cell_type": "code",
      "source": [
        "!ls\n"
      ],
      "metadata": {
        "colab": {
          "base_uri": "https://localhost:8080/"
        },
        "id": "JteM8jhL7uCz",
        "outputId": "835581c5-cc74-4e64-c81f-c8d7a94db388"
      },
      "execution_count": 8,
      "outputs": [
        {
          "output_type": "stream",
          "name": "stdout",
          "text": [
            "code  README.md\n"
          ]
        }
      ]
    },
    {
      "cell_type": "code",
      "source": [
        "cd code/"
      ],
      "metadata": {
        "colab": {
          "base_uri": "https://localhost:8080/"
        },
        "id": "QeYA5QBD177a",
        "outputId": "ec7a9eb8-2d7d-481b-a5d1-408642bc6fce"
      },
      "execution_count": 9,
      "outputs": [
        {
          "output_type": "stream",
          "name": "stdout",
          "text": [
            "/content/mlneuro-learning/mlneuro-learning/code\n"
          ]
        }
      ]
    },
    {
      "cell_type": "code",
      "source": [
        "!ls"
      ],
      "metadata": {
        "colab": {
          "base_uri": "https://localhost:8080/"
        },
        "id": "dEDSjj-X8R1X",
        "outputId": "65d3ffb7-cf74-4ef7-b480-82670f5a940e"
      },
      "execution_count": 10,
      "outputs": [
        {
          "output_type": "stream",
          "name": "stdout",
          "text": [
            "code_folder_1  test_script.py\n"
          ]
        }
      ]
    },
    {
      "cell_type": "code",
      "source": [
        "cd code_folder_1/\n"
      ],
      "metadata": {
        "colab": {
          "base_uri": "https://localhost:8080/"
        },
        "id": "AuCCk-UB8Teg",
        "outputId": "628d3375-7232-4ed3-92ef-a08decd60713"
      },
      "execution_count": 11,
      "outputs": [
        {
          "output_type": "stream",
          "name": "stdout",
          "text": [
            "/content/mlneuro-learning/mlneuro-learning/code/code_folder_1\n"
          ]
        }
      ]
    },
    {
      "cell_type": "code",
      "source": [
        "!ls"
      ],
      "metadata": {
        "colab": {
          "base_uri": "https://localhost:8080/"
        },
        "id": "mhpxuEZc8WxC",
        "outputId": "269f445c-c43d-4dcc-8357-4df7240e3119"
      },
      "execution_count": 12,
      "outputs": [
        {
          "output_type": "stream",
          "name": "stdout",
          "text": [
            "test2.py\n"
          ]
        }
      ]
    },
    {
      "cell_type": "code",
      "source": [
        "# Example: to open test_script.py\n",
        "!cat code/test_script.py\n"
      ],
      "metadata": {
        "colab": {
          "base_uri": "https://localhost:8080/"
        },
        "id": "CRVHJfje8YOW",
        "outputId": "451e32a2-47a0-40e4-8ac1-6e6cff8d1f57"
      },
      "execution_count": 13,
      "outputs": [
        {
          "output_type": "stream",
          "name": "stdout",
          "text": [
            "cat: code/test_script.py: No such file or directory\n"
          ]
        }
      ]
    },
    {
      "cell_type": "code",
      "source": [
        "!cat test2.py"
      ],
      "metadata": {
        "colab": {
          "base_uri": "https://localhost:8080/"
        },
        "id": "0Tt59bHU8hLX",
        "outputId": "10aebc5b-9c27-45d7-ee37-a65bd9035a7c"
      },
      "execution_count": 14,
      "outputs": [
        {
          "output_type": "stream",
          "name": "stdout",
          "text": [
            "print(\"hello hunny bunny\")"
          ]
        }
      ]
    },
    {
      "cell_type": "code",
      "source": [
        "cd ../\n"
      ],
      "metadata": {
        "colab": {
          "base_uri": "https://localhost:8080/"
        },
        "id": "8nxPpL0u8lkW",
        "outputId": "d6939eca-4c1c-4fd5-d660-18e2ee628ddb"
      },
      "execution_count": 15,
      "outputs": [
        {
          "output_type": "stream",
          "name": "stdout",
          "text": [
            "/content/mlneuro-learning/mlneuro-learning/code\n"
          ]
        }
      ]
    },
    {
      "cell_type": "code",
      "source": [
        "!cat test_script.py"
      ],
      "metadata": {
        "colab": {
          "base_uri": "https://localhost:8080/"
        },
        "id": "LRus0wdJ8nA5",
        "outputId": "03b5ffe9-16c3-45e8-a125-4feb5fd35fe5"
      },
      "execution_count": 16,
      "outputs": [
        {
          "output_type": "stream",
          "name": "stdout",
          "text": [
            "def greet(name):\n",
            "    return f\"Hello, {name}!\"\n",
            "\n",
            "print(greet(\"Git user\"))\n"
          ]
        }
      ]
    },
    {
      "cell_type": "code",
      "source": [
        "cd ../"
      ],
      "metadata": {
        "colab": {
          "base_uri": "https://localhost:8080/"
        },
        "id": "-5mqPaZw8rwq",
        "outputId": "c26c2b18-e55b-4d5a-f50d-d514795e01aa"
      },
      "execution_count": 17,
      "outputs": [
        {
          "output_type": "stream",
          "name": "stdout",
          "text": [
            "/content/mlneuro-learning/mlneuro-learning\n"
          ]
        }
      ]
    },
    {
      "cell_type": "code",
      "source": [
        "!ls -l"
      ],
      "metadata": {
        "colab": {
          "base_uri": "https://localhost:8080/"
        },
        "id": "QY1PelaV8vgC",
        "outputId": "6f515b99-ed88-42cb-ad51-0be4960bafba"
      },
      "execution_count": 18,
      "outputs": [
        {
          "output_type": "stream",
          "name": "stdout",
          "text": [
            "total 8\n",
            "drwxr-xr-x 3 root root 4096 May 27 13:29 code\n",
            "-rw-r--r-- 1 root root   22 May 27 13:29 README.md\n"
          ]
        }
      ]
    },
    {
      "cell_type": "code",
      "source": [
        "!cat README.md"
      ],
      "metadata": {
        "colab": {
          "base_uri": "https://localhost:8080/"
        },
        "id": "RUSaJvtG806u",
        "outputId": "53a3a3d2-59a5-42fe-dbdd-3147068689c5"
      },
      "execution_count": 19,
      "outputs": [
        {
          "output_type": "stream",
          "name": "stdout",
          "text": [
            "\"# MLNeuro Learning\" \n"
          ]
        }
      ]
    },
    {
      "cell_type": "code",
      "source": [
        "# Move back to /content/\n",
        "%cd /content/\n",
        "\n",
        "# Delete the nested folder\n",
        "!rm -rf mlneuro-learning/mlneuro-learning\n",
        "\n",
        "# Move to the correct level\n",
        "%cd mlneuro-learning\n"
      ],
      "metadata": {
        "colab": {
          "base_uri": "https://localhost:8080/"
        },
        "id": "Oe750cnJ87x2",
        "outputId": "c059ee44-82a0-4045-f9ea-bd635ade1a9f"
      },
      "execution_count": 20,
      "outputs": [
        {
          "output_type": "stream",
          "name": "stdout",
          "text": [
            "/content\n",
            "/content/mlneuro-learning\n"
          ]
        }
      ]
    },
    {
      "cell_type": "code",
      "source": [
        "import os\n",
        "os.getcwd()\n"
      ],
      "metadata": {
        "colab": {
          "base_uri": "https://localhost:8080/",
          "height": 35
        },
        "id": "jLGLIS_CC44q",
        "outputId": "e3c0d68c-24b1-40dd-fe94-b09a126dc81b"
      },
      "execution_count": 21,
      "outputs": [
        {
          "output_type": "execute_result",
          "data": {
            "text/plain": [
              "'/content/mlneuro-learning'"
            ],
            "application/vnd.google.colaboratory.intrinsic+json": {
              "type": "string"
            }
          },
          "metadata": {},
          "execution_count": 21
        }
      ]
    },
    {
      "cell_type": "code",
      "source": [],
      "metadata": {
        "id": "DWV-BFOPEhRH"
      },
      "execution_count": null,
      "outputs": []
    }
  ]
}