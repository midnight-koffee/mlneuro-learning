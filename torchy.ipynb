{
  "nbformat": 4,
  "nbformat_minor": 0,
  "metadata": {
    "colab": {
      "provenance": [],
      "gpuType": "T4",
      "authorship_tag": "ABX9TyOIxjTrb0u6/BSwSxBoTHdv",
      "include_colab_link": true
    },
    "kernelspec": {
      "name": "python3",
      "display_name": "Python 3"
    },
    "language_info": {
      "name": "python"
    },
    "accelerator": "GPU"
  },
  "cells": [
    {
      "cell_type": "markdown",
      "metadata": {
        "id": "view-in-github",
        "colab_type": "text"
      },
      "source": [
        "<a href=\"https://colab.research.google.com/github/midnight-koffee/mlneuro-learning/blob/main/torchy.ipynb\" target=\"_parent\"><img src=\"https://colab.research.google.com/assets/colab-badge.svg\" alt=\"Open In Colab\"/></a>"
      ]
    },
    {
      "cell_type": "code",
      "source": [
        "# Remove any existing clone\n",
        "!rm -rf /content/mlneuro-learning\n",
        "!rm -rf /content/mlneuro-learning/mlneuro-learning\n",
        "!rm -rf /content/MLNeuro-Learning\n",
        "!ls /content\n"
      ],
      "metadata": {
        "colab": {
          "base_uri": "https://localhost:8080/"
        },
        "id": "JSETZC7N7xmh",
        "outputId": "53ab61f6-29ae-47bb-f3f8-711e463ae3aa"
      },
      "execution_count": 116,
      "outputs": [
        {
          "output_type": "stream",
          "name": "stdout",
          "text": [
            "sample_data\n"
          ]
        }
      ]
    },
    {
      "cell_type": "code",
      "source": [
        "import getpass\n",
        "\n",
        "# Securely get GitHub token\n",
        "token = getpass.getpass(\"Enter your GitHub token: \")\n",
        "username = \"midnight-koffee\"\n",
        "repo_name = \"mlneuro-learning\"\n",
        "repo_url = f\"https://{token}@github.com/{username}/{repo_name}.git\"\n",
        "\n",
        "# Clone repo\n",
        "!git clone {repo_url} /content/{repo_name}\n",
        "%cd /content/{repo_name}\n"
      ],
      "metadata": {
        "id": "Lz54d4hVMJIA",
        "outputId": "01ac070f-3542-47c8-bfc2-a837ecda98b0",
        "colab": {
          "base_uri": "https://localhost:8080/"
        }
      },
      "execution_count": 117,
      "outputs": [
        {
          "output_type": "stream",
          "name": "stdout",
          "text": [
            "Enter your GitHub token: ··········\n",
            "Cloning into '/content/mlneuro-learning'...\n",
            "remote: Enumerating objects: 19, done.\u001b[K\n",
            "remote: Counting objects: 100% (19/19), done.\u001b[K\n",
            "remote: Compressing objects: 100% (13/13), done.\u001b[K\n",
            "Receiving objects: 100% (19/19), 5.50 KiB | 5.50 MiB/s, done.\n",
            "Resolving deltas: 100% (5/5), done.\n",
            "remote: Total 19 (delta 5), reused 11 (delta 1), pack-reused 0 (from 0)\u001b[K\n",
            "/content/mlneuro-learning\n"
          ]
        }
      ]
    },
    {
      "cell_type": "code",
      "source": [
        "!git config --global user.email \"debu.chatra@gmail.com\"\n",
        "!git config --global user.name \"midnight-koffee\"\n",
        "!git status\n"
      ],
      "metadata": {
        "colab": {
          "base_uri": "https://localhost:8080/"
        },
        "id": "iaqV4hyDcyk1",
        "outputId": "bd6e4331-750d-4de0-82de-bd577d46ecbc"
      },
      "execution_count": 118,
      "outputs": [
        {
          "output_type": "stream",
          "name": "stdout",
          "text": [
            "On branch main\n",
            "Your branch is up to date with 'origin/main'.\n",
            "\n",
            "nothing to commit, working tree clean\n"
          ]
        }
      ]
    },
    {
      "cell_type": "code",
      "execution_count": 119,
      "metadata": {
        "id": "xxJVjdb60XTi"
      },
      "outputs": [],
      "source": [
        "# Example: Append a line to log.txt\n",
        "with open(\"log.txt\", \"a\") as f:\n",
        "    f.write(\"New line from Colab.\\n\")\n"
      ]
    },
    {
      "cell_type": "code",
      "source": [
        "import torch"
      ],
      "metadata": {
        "id": "QsgV37-B017L"
      },
      "execution_count": 120,
      "outputs": []
    },
    {
      "cell_type": "code",
      "source": [
        "tensor = torch.rand(3, 4).to(\"cuda\")  # This sends tensor to the T4 GPU\n",
        "\n",
        "\n",
        "print(f\"Shape of tensor: {tensor.shape}\")\n",
        "print(f\"Datatype of tensor: {tensor.dtype}\")\n",
        "print(f\"Device tensor is stored on: {tensor.device}\")"
      ],
      "metadata": {
        "colab": {
          "base_uri": "https://localhost:8080/"
        },
        "id": "jrhRP4nG02qf",
        "outputId": "31fcf1d5-7112-4a9b-c807-5cd2b52d5b84"
      },
      "execution_count": 121,
      "outputs": [
        {
          "output_type": "stream",
          "name": "stdout",
          "text": [
            "Shape of tensor: torch.Size([3, 4])\n",
            "Datatype of tensor: torch.float32\n",
            "Device tensor is stored on: cuda:0\n"
          ]
        }
      ]
    },
    {
      "cell_type": "code",
      "source": [
        "import time\n",
        "\n",
        "# Big tensor on CPU\n",
        "a_cpu = torch.rand(5000, 5000)\n",
        "b_cpu = torch.rand(5000, 5000)\n",
        "\n",
        "start = time.time()\n",
        "c_cpu = a_cpu @ b_cpu\n",
        "print(\"CPU time:\", time.time() - start)\n",
        "\n",
        "# Big tensor on GPU\n",
        "a_gpu = a_cpu.to(\"cuda\")\n",
        "b_gpu = b_cpu.to(\"cuda\")\n",
        "\n",
        "start = time.time()\n",
        "c_gpu = a_gpu @ b_gpu\n",
        "torch.cuda.synchronize()  # Wait for GPU to finish\n",
        "print(\"GPU time:\", time.time() - start)\n"
      ],
      "metadata": {
        "colab": {
          "base_uri": "https://localhost:8080/"
        },
        "id": "nsgWFNPv05oe",
        "outputId": "4c1c5967-92e9-4c89-f986-691710abdb10"
      },
      "execution_count": 122,
      "outputs": [
        {
          "output_type": "stream",
          "name": "stdout",
          "text": [
            "CPU time: 3.2277517318725586\n",
            "GPU time: 0.08810567855834961\n"
          ]
        }
      ]
    },
    {
      "cell_type": "code",
      "source": [
        "!ls\n"
      ],
      "metadata": {
        "colab": {
          "base_uri": "https://localhost:8080/"
        },
        "id": "JteM8jhL7uCz",
        "outputId": "46c2a563-261e-4c7e-ebf8-cd12732f96f0"
      },
      "execution_count": 123,
      "outputs": [
        {
          "output_type": "stream",
          "name": "stdout",
          "text": [
            "code  log.txt  README.md  torchy.ipynb\n"
          ]
        }
      ]
    },
    {
      "cell_type": "code",
      "source": [
        "print(\"my name is anthony gonsalves\")"
      ],
      "metadata": {
        "colab": {
          "base_uri": "https://localhost:8080/"
        },
        "id": "Q-MCpALogRo1",
        "outputId": "93d47269-eca3-4592-f6eb-73b7265712ca"
      },
      "execution_count": 126,
      "outputs": [
        {
          "output_type": "stream",
          "name": "stdout",
          "text": [
            "my name is anthony gonsalves\n"
          ]
        }
      ]
    },
    {
      "cell_type": "code",
      "source": [
        "!git status"
      ],
      "metadata": {
        "colab": {
          "base_uri": "https://localhost:8080/"
        },
        "id": "uNXfdnmzgXLc",
        "outputId": "2f58b9b2-9a67-43d5-b7e7-b68704e955f8"
      },
      "execution_count": 127,
      "outputs": [
        {
          "output_type": "stream",
          "name": "stdout",
          "text": [
            "On branch main\n",
            "Your branch is up to date with 'origin/main'.\n",
            "\n",
            "nothing to commit, working tree clean\n"
          ]
        }
      ]
    },
    {
      "cell_type": "code",
      "source": [
        "!git add ."
      ],
      "metadata": {
        "id": "89YlN2qZgcAH"
      },
      "execution_count": 128,
      "outputs": []
    },
    {
      "cell_type": "code",
      "source": [
        "!git status"
      ],
      "metadata": {
        "colab": {
          "base_uri": "https://localhost:8080/"
        },
        "id": "DnDy8rONgesn",
        "outputId": "c37fe346-0b64-43d2-9181-97b561b6b264"
      },
      "execution_count": 129,
      "outputs": [
        {
          "output_type": "stream",
          "name": "stdout",
          "text": [
            "On branch main\n",
            "Your branch is up to date with 'origin/main'.\n",
            "\n",
            "nothing to commit, working tree clean\n"
          ]
        }
      ]
    },
    {
      "cell_type": "code",
      "source": [
        "import getpass\n",
        "\n",
        "# Get token again for pushing\n",
        "token = getpass.getpass(\"Enter GitHub token again for push: \")\n",
        "secure_url = f\"https://{token}@github.com/midnight-koffee/mlneuro-learning.git\"\n",
        "!git remote set-url origin {secure_url}\n",
        "\n",
        "!git add .\n",
        "!git commit -m \"Commit from Colab\"\n",
        "!git push\n"
      ],
      "metadata": {
        "colab": {
          "base_uri": "https://localhost:8080/"
        },
        "id": "wSGeidJNdGtG",
        "outputId": "aed3d16d-b340-40d8-9a7f-722cce0ee54c"
      },
      "execution_count": 131,
      "outputs": [
        {
          "output_type": "stream",
          "name": "stdout",
          "text": [
            "Enter GitHub token again for push: ··········\n",
            "On branch main\n",
            "Your branch is up to date with 'origin/main'.\n",
            "\n",
            "nothing to commit, working tree clean\n",
            "To https://github.com/midnight-koffee/mlneuro-learning.git\n",
            " \u001b[31m! [rejected]       \u001b[m main -> main (fetch first)\n",
            "\u001b[31merror: failed to push some refs to 'https://github.com/midnight-koffee/mlneuro-learning.git'\n",
            "\u001b[m\u001b[33mhint: Updates were rejected because the remote contains work that you do\u001b[m\n",
            "\u001b[33mhint: not have locally. This is usually caused by another repository pushing\u001b[m\n",
            "\u001b[33mhint: to the same ref. You may want to first integrate the remote changes\u001b[m\n",
            "\u001b[33mhint: (e.g., 'git pull ...') before pushing again.\u001b[m\n",
            "\u001b[33mhint: See the 'Note about fast-forwards' in 'git push --help' for details.\u001b[m\n"
          ]
        }
      ]
    },
    {
      "cell_type": "code",
      "source": [
        "import os"
      ],
      "metadata": {
        "id": "W4GlHzJKdJVt"
      },
      "execution_count": 125,
      "outputs": []
    },
    {
      "cell_type": "code",
      "source": [
        "# Check Git version\n",
        "!git --version\n",
        "\n",
        "# Check Colab is using Python\n",
        "!which python\n",
        "\n",
        "# Try listing your content directory\n",
        "!ls /content\n",
        "\n",
        "# Git configuration (global)\n",
        "!git config --global --list\n"
      ],
      "metadata": {
        "colab": {
          "base_uri": "https://localhost:8080/"
        },
        "id": "lgRp223UgHtP",
        "outputId": "be2113a3-e0d5-40e5-a056-28bad24ee09c"
      },
      "execution_count": 132,
      "outputs": [
        {
          "output_type": "stream",
          "name": "stdout",
          "text": [
            "git version 2.34.1\n",
            "/usr/local/bin/python\n",
            "mlneuro-learning  sample_data\n",
            "user.name=midnight-koffee\n",
            "user.email=debu.chatra@gmail.com\n"
          ]
        }
      ]
    },
    {
      "cell_type": "code",
      "source": [
        "%cd /content/mlneuro-learning\n",
        "\n",
        "# Make a dummy change\n",
        "with open(\"log.txt\", \"a\") as f:\n",
        "    f.write(\"Colab push test.\\n\")\n",
        "\n",
        "# Check if Git sees the change\n",
        "!git status\n"
      ],
      "metadata": {
        "id": "7CpJ7C9WhokK",
        "outputId": "0fc8216d-c3e0-4170-f0a7-d453573c4c54",
        "colab": {
          "base_uri": "https://localhost:8080/"
        }
      },
      "execution_count": 133,
      "outputs": [
        {
          "output_type": "stream",
          "name": "stdout",
          "text": [
            "/content/mlneuro-learning\n",
            "On branch main\n",
            "Your branch is up to date with 'origin/main'.\n",
            "\n",
            "Changes not staged for commit:\n",
            "  (use \"git add <file>...\" to update what will be committed)\n",
            "  (use \"git restore <file>...\" to discard changes in working directory)\n",
            "\t\u001b[31mmodified:   log.txt\u001b[m\n",
            "\n",
            "no changes added to commit (use \"git add\" and/or \"git commit -a\")\n"
          ]
        }
      ]
    },
    {
      "cell_type": "code",
      "source": [
        "import getpass\n",
        "\n",
        "# Prompt to enter your GitHub token\n",
        "token = getpass.getpass(\"Enter your GitHub token again for push: \")\n"
      ],
      "metadata": {
        "id": "DrPOyGVch34r",
        "outputId": "87921f48-c94a-44c7-c5e6-df8d04d1f016",
        "colab": {
          "base_uri": "https://localhost:8080/"
        }
      },
      "execution_count": 134,
      "outputs": [
        {
          "name": "stdout",
          "output_type": "stream",
          "text": [
            "Enter your GitHub token again for push: ··········\n"
          ]
        }
      ]
    },
    {
      "cell_type": "code",
      "source": [
        "# Set the remote URL using your token\n",
        "secure_url = f\"https://{token}@github.com/midnight-koffee/mlneuro-learning.git\"\n",
        "!git remote set-url origin {secure_url}\n",
        "\n",
        "# Stage the modified file\n",
        "!git add log.txt\n",
        "\n",
        "# Commit the change\n",
        "!git commit -m \"Test commit from Colab\"\n",
        "\n",
        "# Push to GitHub\n",
        "!git push\n"
      ],
      "metadata": {
        "id": "NZhGDTdEiDE4",
        "outputId": "a8bb7075-f920-4258-859d-78b525af1523",
        "colab": {
          "base_uri": "https://localhost:8080/"
        }
      },
      "execution_count": 135,
      "outputs": [
        {
          "output_type": "stream",
          "name": "stdout",
          "text": [
            "[main 9d7e707] Test commit from Colab\n",
            " 1 file changed, 1 insertion(+)\n",
            "To https://github.com/midnight-koffee/mlneuro-learning.git\n",
            " \u001b[31m! [rejected]       \u001b[m main -> main (fetch first)\n",
            "\u001b[31merror: failed to push some refs to 'https://github.com/midnight-koffee/mlneuro-learning.git'\n",
            "\u001b[m\u001b[33mhint: Updates were rejected because the remote contains work that you do\u001b[m\n",
            "\u001b[33mhint: not have locally. This is usually caused by another repository pushing\u001b[m\n",
            "\u001b[33mhint: to the same ref. You may want to first integrate the remote changes\u001b[m\n",
            "\u001b[33mhint: (e.g., 'git pull ...') before pushing again.\u001b[m\n",
            "\u001b[33mhint: See the 'Note about fast-forwards' in 'git push --help' for details.\u001b[m\n"
          ]
        }
      ]
    },
    {
      "cell_type": "code",
      "source": [
        "# Pull remote changes safely using rebase\n",
        "!git pull --rebase origin main\n"
      ],
      "metadata": {
        "id": "66FNOfoziMjq",
        "outputId": "35eb7afe-dbb2-46b9-c383-65709f6273ff",
        "colab": {
          "base_uri": "https://localhost:8080/"
        }
      },
      "execution_count": 136,
      "outputs": [
        {
          "output_type": "stream",
          "name": "stdout",
          "text": [
            "remote: Enumerating objects: 5, done.\u001b[K\n",
            "remote: Counting objects:  20% (1/5)\u001b[K\rremote: Counting objects:  40% (2/5)\u001b[K\rremote: Counting objects:  60% (3/5)\u001b[K\rremote: Counting objects:  80% (4/5)\u001b[K\rremote: Counting objects: 100% (5/5)\u001b[K\rremote: Counting objects: 100% (5/5), done.\u001b[K\n",
            "remote: Compressing objects:  33% (1/3)\u001b[K\rremote: Compressing objects:  66% (2/3)\u001b[K\rremote: Compressing objects: 100% (3/3)\u001b[K\rremote: Compressing objects: 100% (3/3), done.\u001b[K\n",
            "remote: Total 3 (delta 2), reused 0 (delta 0), pack-reused 0 (from 0)\u001b[K\n",
            "Unpacking objects:  33% (1/3)\rUnpacking objects:  66% (2/3)\rUnpacking objects: 100% (3/3)\rUnpacking objects: 100% (3/3), 1.73 KiB | 1.73 MiB/s, done.\n",
            "From https://github.com/midnight-koffee/mlneuro-learning\n",
            " * branch            main       -> FETCH_HEAD\n",
            "   4121c6e..3ba377d  main       -> origin/main\n",
            "Rebasing (1/1)\r\r\u001b[KSuccessfully rebased and updated refs/heads/main.\n"
          ]
        }
      ]
    },
    {
      "cell_type": "code",
      "source": [
        "!git push\n"
      ],
      "metadata": {
        "id": "sN8W8oWcjHZI",
        "outputId": "c44e7fd7-2e31-4f0d-dc6e-d27912fd93a7",
        "colab": {
          "base_uri": "https://localhost:8080/"
        }
      },
      "execution_count": 137,
      "outputs": [
        {
          "output_type": "stream",
          "name": "stdout",
          "text": [
            "Enumerating objects: 5, done.\n",
            "Counting objects:  20% (1/5)\rCounting objects:  40% (2/5)\rCounting objects:  60% (3/5)\rCounting objects:  80% (4/5)\rCounting objects: 100% (5/5)\rCounting objects: 100% (5/5), done.\n",
            "Delta compression using up to 2 threads\n",
            "Compressing objects:  50% (1/2)\rCompressing objects: 100% (2/2)\rCompressing objects: 100% (2/2), done.\n",
            "Writing objects:  33% (1/3)\rWriting objects:  66% (2/3)\rWriting objects: 100% (3/3)\rWriting objects: 100% (3/3), 306 bytes | 306.00 KiB/s, done.\n",
            "Total 3 (delta 1), reused 0 (delta 0), pack-reused 0\n",
            "remote: Resolving deltas: 100% (1/1), completed with 1 local object.\u001b[K\n",
            "To https://github.com/midnight-koffee/mlneuro-learning.git\n",
            "   3ba377d..c2b8c4a  main -> main\n"
          ]
        }
      ]
    },
    {
      "cell_type": "code",
      "source": [],
      "metadata": {
        "id": "LQLCnBOqjRE_"
      },
      "execution_count": null,
      "outputs": []
    }
  ]
}