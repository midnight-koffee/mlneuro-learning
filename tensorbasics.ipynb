{
  "nbformat": 4,
  "nbformat_minor": 0,
  "metadata": {
    "colab": {
      "provenance": [],
      "authorship_tag": "ABX9TyNdugqbSld4To0/MMB7e0qr",
      "include_colab_link": true
    },
    "kernelspec": {
      "name": "python3",
      "display_name": "Python 3"
    },
    "language_info": {
      "name": "python"
    }
  },
  "cells": [
    {
      "cell_type": "markdown",
      "metadata": {
        "id": "view-in-github",
        "colab_type": "text"
      },
      "source": [
        "<a href=\"https://colab.research.google.com/github/midnight-koffee/mlneuro-learning/blob/main/tensorbasics.ipynb\" target=\"_parent\"><img src=\"https://colab.research.google.com/assets/colab-badge.svg\" alt=\"Open In Colab\"/></a>"
      ]
    },
    {
      "cell_type": "code",
      "execution_count": 1,
      "metadata": {
        "id": "bdyIQs44JyXI"
      },
      "outputs": [],
      "source": [
        "import numpy as np"
      ]
    },
    {
      "cell_type": "code",
      "source": [
        "import torch"
      ],
      "metadata": {
        "id": "8jnSr-xkJ692"
      },
      "execution_count": 2,
      "outputs": []
    },
    {
      "cell_type": "markdown",
      "source": [
        "Step 1: Create Tensors\n",
        "\n",
        "Define two tensors A and B, each of shape (2, 2). Fill them with different numbers so they’re easy to distinguish."
      ],
      "metadata": {
        "id": "ZVT7h81hPmiE"
      }
    },
    {
      "cell_type": "code",
      "source": [
        "A = torch.ones(2,2)\n",
        "B = torch.rand(2,2)"
      ],
      "metadata": {
        "id": "n_RkC9bWJ7qO"
      },
      "execution_count": 3,
      "outputs": []
    },
    {
      "cell_type": "markdown",
      "source": [
        "Task 1: Concatenation\n",
        "1.1 Concatenate A and B along dim=0.\n",
        "\n",
        "    What is the resulting shape?\n",
        "\n",
        "    What do the rows look like?\n",
        "\n",
        "1.2 Concatenate A and B along dim=1.\n",
        "\n",
        "    What is the resulting shape?\n",
        "\n",
        "    Where do the values of B appear in the output?"
      ],
      "metadata": {
        "id": "2NyHlaeJWJpu"
      }
    },
    {
      "cell_type": "code",
      "source": [
        "# we have to concatenate A and B along rows\n",
        "ans1 = torch.cat([A,B], dim=0)\n",
        "print(ans1)"
      ],
      "metadata": {
        "colab": {
          "base_uri": "https://localhost:8080/"
        },
        "id": "EK5eDqVZWGLV",
        "outputId": "629d7d2c-d572-45dd-bbb7-67328d1e4307"
      },
      "execution_count": 4,
      "outputs": [
        {
          "output_type": "stream",
          "name": "stdout",
          "text": [
            "tensor([[1.0000, 1.0000],\n",
            "        [1.0000, 1.0000],\n",
            "        [0.0504, 0.3768],\n",
            "        [0.5831, 0.3082]])\n"
          ]
        }
      ]
    },
    {
      "cell_type": "code",
      "source": [
        "ans2 = torch.cat([A,B], dim=1)\n",
        "print(ans2)"
      ],
      "metadata": {
        "colab": {
          "base_uri": "https://localhost:8080/"
        },
        "id": "u1enJ0-QWrCn",
        "outputId": "cc2368a4-0ed2-4f09-e122-0272ac7d7f5f"
      },
      "execution_count": 5,
      "outputs": [
        {
          "output_type": "stream",
          "name": "stdout",
          "text": [
            "tensor([[1.0000, 1.0000, 0.0504, 0.3768],\n",
            "        [1.0000, 1.0000, 0.5831, 0.3082]])\n"
          ]
        }
      ]
    },
    {
      "cell_type": "markdown",
      "source": [
        "Task 2: Stack\n",
        "2.1 Stack A and B along dim=0, dim=1, and dim=2.\n",
        "\n",
        "    What’s the shape each time?\n",
        "\n",
        "    What happens to the rank (number of dimensions)?"
      ],
      "metadata": {
        "id": "qrlb2UOPW7Yf"
      }
    },
    {
      "cell_type": "code",
      "source": [
        "anstack1 = torch.stack([A,B], dim=0)"
      ],
      "metadata": {
        "id": "seWjC7lBW6-c"
      },
      "execution_count": 6,
      "outputs": []
    },
    {
      "cell_type": "code",
      "source": [
        "anstack2 = torch.stack([A,B], dim = 1)\n",
        "anstack3 = torch.stack([A,B],dim=2)"
      ],
      "metadata": {
        "id": "Cp7Pmp5CW0Y1"
      },
      "execution_count": 7,
      "outputs": []
    },
    {
      "cell_type": "code",
      "source": [
        "print(anstack1,anstack2,anstack3)\n",
        "print(anstack1.shape,anstack2.shape,anstack3.shape)\n",
        "\n"
      ],
      "metadata": {
        "colab": {
          "base_uri": "https://localhost:8080/"
        },
        "id": "uKr4FxgDZx3e",
        "outputId": "c6a5cf05-65cf-4455-e1b1-8446c3104877"
      },
      "execution_count": 8,
      "outputs": [
        {
          "output_type": "stream",
          "name": "stdout",
          "text": [
            "tensor([[[1.0000, 1.0000],\n",
            "         [1.0000, 1.0000]],\n",
            "\n",
            "        [[0.0504, 0.3768],\n",
            "         [0.5831, 0.3082]]]) tensor([[[1.0000, 1.0000],\n",
            "         [0.0504, 0.3768]],\n",
            "\n",
            "        [[1.0000, 1.0000],\n",
            "         [0.5831, 0.3082]]]) tensor([[[1.0000, 0.0504],\n",
            "         [1.0000, 0.3768]],\n",
            "\n",
            "        [[1.0000, 0.5831],\n",
            "         [1.0000, 0.3082]]])\n",
            "torch.Size([2, 2, 2]) torch.Size([2, 2, 2]) torch.Size([2, 2, 2])\n"
          ]
        }
      ]
    },
    {
      "cell_type": "markdown",
      "source": [
        "tensor = torch.arange(16).reshape(4, 4)\n",
        "# Q: Set the last row to all 0s\n",
        "# Q: Extract the diagonal elements manually using indexing\n",
        "# Q: Replace second column with [1, 2, 3, 4]\n"
      ],
      "metadata": {
        "id": "_iFS1Fp9eQ1k"
      }
    },
    {
      "cell_type": "code",
      "source": [
        "tensor = torch.arange(16).reshape(4,4)\n",
        "print(tensor)\n",
        "tensor[3,:] = 0\n",
        "print(tensor)\n",
        "diag = torch.ones(1,4)\n",
        "print(diag)\n",
        "for i in range(4):\n",
        "  diag[0][i] = tensor[i][i]\n",
        "print(diag)\n",
        "\n",
        "for j in range(4):\n",
        "  tensor[j,1] = j+1\n",
        "print(tensor)"
      ],
      "metadata": {
        "id": "stfazhHXZ1K9",
        "colab": {
          "base_uri": "https://localhost:8080/"
        },
        "outputId": "3818ea7e-a54d-4120-cf4c-662859151539"
      },
      "execution_count": 18,
      "outputs": [
        {
          "output_type": "stream",
          "name": "stdout",
          "text": [
            "tensor([[ 0,  1,  2,  3],\n",
            "        [ 4,  5,  6,  7],\n",
            "        [ 8,  9, 10, 11],\n",
            "        [12, 13, 14, 15]])\n",
            "tensor([[ 0,  1,  2,  3],\n",
            "        [ 4,  5,  6,  7],\n",
            "        [ 8,  9, 10, 11],\n",
            "        [ 0,  0,  0,  0]])\n",
            "tensor([[1., 1., 1., 1.]])\n",
            "tensor([[ 0.,  5., 10.,  0.]])\n",
            "tensor([[ 0,  1,  2,  3],\n",
            "        [ 4,  2,  6,  7],\n",
            "        [ 8,  3, 10, 11],\n",
            "        [ 0,  4,  0,  0]])\n"
          ]
        }
      ]
    },
    {
      "cell_type": "markdown",
      "source": [
        "a = torch.ones(2, 3)\n",
        "b = torch.zeros(2, 3)\n",
        "# Q: Concatenate them row-wise (dim=0) → shape?\n",
        "# Q: Concatenate them column-wise (dim=1) → shape?\n",
        "# Q: Stack them along new dimension dim=0 → shape?\n"
      ],
      "metadata": {
        "id": "5hF5IDZOhMSw"
      }
    },
    {
      "cell_type": "code",
      "source": [
        "a = torch.ones(2, 3)\n",
        "b = torch.zeros(2, 3)\n",
        "# Q: Concatenate them row-wise (dim=0) → shape?\n",
        "c = torch.cat([a,b], dim = 0)\n",
        "print(c)\n",
        "d = torch.cat([a,b], dim = 1)\n",
        "print(d)\n",
        "e = torch.stack([a,b], dim=0)\n",
        "print(e)"
      ],
      "metadata": {
        "colab": {
          "base_uri": "https://localhost:8080/"
        },
        "id": "ltT6LJvDeab-",
        "outputId": "eb24a26b-e5e1-4e7a-8598-3328d5b3fa18"
      },
      "execution_count": 23,
      "outputs": [
        {
          "output_type": "stream",
          "name": "stdout",
          "text": [
            "tensor([[1., 1., 1.],\n",
            "        [1., 1., 1.],\n",
            "        [0., 0., 0.],\n",
            "        [0., 0., 0.]])\n",
            "tensor([[1., 1., 1., 0., 0., 0.],\n",
            "        [1., 1., 1., 0., 0., 0.]])\n",
            "tensor([[[1., 1., 1.],\n",
            "         [1., 1., 1.]],\n",
            "\n",
            "        [[0., 0., 0.],\n",
            "         [0., 0., 0.]]])\n"
          ]
        }
      ]
    },
    {
      "cell_type": "markdown",
      "source": [
        "A = torch.tensor([[1., 2.], [3., 4.]])\n",
        "B = torch.tensor([[2., 0.], [1., 2.]])\n",
        "# Q: Compute A @ B\n",
        "# Q: Use torch.matmul to do the same\n"
      ],
      "metadata": {
        "id": "6Mwfrb7aiafH"
      }
    },
    {
      "cell_type": "code",
      "source": [
        "A = torch.tensor([[1., 2.], [3., 4.]])\n",
        "B = torch.tensor([[2., 0.], [1., 2.]])\n",
        "# Q: Compute A @ B\n",
        "C = A@B\n",
        "print(C)\n",
        "# Q: Use torch.matmul to do the same\n",
        "D = torch.rand([2,2])\n",
        "print(D)\n",
        "torch.matmul(A,B, out=D)\n",
        "print(D)\n"
      ],
      "metadata": {
        "colab": {
          "base_uri": "https://localhost:8080/"
        },
        "id": "yafV_G8KhuLp",
        "outputId": "9951c758-7cba-4135-ff22-38342f4dad29"
      },
      "execution_count": 29,
      "outputs": [
        {
          "output_type": "stream",
          "name": "stdout",
          "text": [
            "tensor([[ 4.,  4.],\n",
            "        [10.,  8.]])\n",
            "tensor([[0.3178, 0.7089],\n",
            "        [0.5420, 0.2244]])\n",
            "tensor([[ 4.,  4.],\n",
            "        [10.,  8.]])\n"
          ]
        }
      ]
    },
    {
      "cell_type": "code",
      "source": [
        "x = torch.tensor([[1., 2.], [3., 4.]])\n",
        "# Q: Compute x * x\n",
        "y = x*x\n",
        "print(y)\n",
        "d = torch.mul(x, x,out=torch.empty_like(x))\n",
        "print(d)\n",
        "\n",
        "\n",
        "# Q: Use torch.mul(x, x) with out=torch.empty_like(x)\n"
      ],
      "metadata": {
        "colab": {
          "base_uri": "https://localhost:8080/"
        },
        "id": "iJp-dnSViu2o",
        "outputId": "73c35327-dd45-4632-917f-c79cac686f8c"
      },
      "execution_count": 33,
      "outputs": [
        {
          "output_type": "stream",
          "name": "stdout",
          "text": [
            "tensor([[ 1.,  4.],\n",
            "        [ 9., 16.]])\n",
            "tensor([[ 1.,  4.],\n",
            "        [ 9., 16.]])\n"
          ]
        }
      ]
    },
    {
      "cell_type": "code",
      "source": [
        "x = torch.tensor([[1., 2.], [3., 4.]])\n",
        "# Q: Sum all elements and extract as Python float\n",
        "summ = x.sum()\n",
        "print(summ)\n",
        "print(type(summ))\n",
        "pythoned = summ.item()\n",
        "print(pythoned)\n",
        "print(type(pythoned))\n",
        "# Q: Mean all elements and print its type\n",
        "meany = pythoned/4\n",
        "print(\"The mean is\", meany)\n",
        "print(type(meany))"
      ],
      "metadata": {
        "colab": {
          "base_uri": "https://localhost:8080/"
        },
        "id": "H78lYvjjl_lb",
        "outputId": "15ace9f2-1be9-4c65-b544-d7416251df39"
      },
      "execution_count": 40,
      "outputs": [
        {
          "output_type": "stream",
          "name": "stdout",
          "text": [
            "tensor(10.)\n",
            "<class 'torch.Tensor'>\n",
            "10.0\n",
            "<class 'float'>\n",
            "The mean is 2.5\n",
            "<class 'float'>\n"
          ]
        }
      ]
    },
    {
      "cell_type": "code",
      "source": [
        "x = torch.tensor([[1., 2.], [3., 4.]])\n",
        "# Q: Add 10 to all elements using in-place op\n",
        "x.add_(10)\n",
        "# Q: Replace x with a new tensor (copy_): torch.tensor([[0., 0.], [0., 0.]])\n",
        "x.mul_(0)\n"
      ],
      "metadata": {
        "colab": {
          "base_uri": "https://localhost:8080/"
        },
        "id": "D8fQFlOine3D",
        "outputId": "fd695430-0c66-40a8-e2a7-bbab7a9c8e16"
      },
      "execution_count": 43,
      "outputs": [
        {
          "output_type": "execute_result",
          "data": {
            "text/plain": [
              "tensor([[0., 0.],\n",
              "        [0., 0.]])"
            ]
          },
          "metadata": {},
          "execution_count": 43
        }
      ]
    },
    {
      "cell_type": "code",
      "source": [],
      "metadata": {
        "id": "qU8P3VYfoHWd"
      },
      "execution_count": null,
      "outputs": []
    }
  ]
}