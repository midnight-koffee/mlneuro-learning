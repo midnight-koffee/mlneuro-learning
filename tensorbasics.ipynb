{
  "nbformat": 4,
  "nbformat_minor": 0,
  "metadata": {
    "colab": {
      "provenance": [],
      "authorship_tag": "ABX9TyOWZ6ZnrkD1n8RIbN4Z8xbA",
      "include_colab_link": true
    },
    "kernelspec": {
      "name": "python3",
      "display_name": "Python 3"
    },
    "language_info": {
      "name": "python"
    }
  },
  "cells": [
    {
      "cell_type": "markdown",
      "metadata": {
        "id": "view-in-github",
        "colab_type": "text"
      },
      "source": [
        "<a href=\"https://colab.research.google.com/github/midnight-koffee/mlneuro-learning/blob/main/tensorbasics.ipynb\" target=\"_parent\"><img src=\"https://colab.research.google.com/assets/colab-badge.svg\" alt=\"Open In Colab\"/></a>"
      ]
    },
    {
      "cell_type": "code",
      "execution_count": null,
      "metadata": {
        "id": "bdyIQs44JyXI"
      },
      "outputs": [],
      "source": [
        "import numpy as np"
      ]
    },
    {
      "cell_type": "code",
      "source": [
        "import torch"
      ],
      "metadata": {
        "id": "8jnSr-xkJ692"
      },
      "execution_count": null,
      "outputs": []
    },
    {
      "cell_type": "markdown",
      "source": [
        "Step 1: Create Tensors\n",
        "\n",
        "Define two tensors A and B, each of shape (2, 2). Fill them with different numbers so they’re easy to distinguish."
      ],
      "metadata": {
        "id": "ZVT7h81hPmiE"
      }
    },
    {
      "cell_type": "code",
      "source": [
        "A = torch.ones(2,2)\n",
        "B = torch.rand(2,2)"
      ],
      "metadata": {
        "id": "n_RkC9bWJ7qO"
      },
      "execution_count": null,
      "outputs": []
    },
    {
      "cell_type": "markdown",
      "source": [
        "Task 1: Concatenation\n",
        "1.1 Concatenate A and B along dim=0.\n",
        "\n",
        "    What is the resulting shape?\n",
        "\n",
        "    What do the rows look like?\n",
        "\n",
        "1.2 Concatenate A and B along dim=1.\n",
        "\n",
        "    What is the resulting shape?\n",
        "\n",
        "    Where do the values of B appear in the output?"
      ],
      "metadata": {
        "id": "2NyHlaeJWJpu"
      }
    },
    {
      "cell_type": "code",
      "source": [
        "# we have to concatenate A and B along rows\n",
        "ans1 = torch.cat([A,B], dim=0)\n",
        "print(ans1)"
      ],
      "metadata": {
        "colab": {
          "base_uri": "https://localhost:8080/"
        },
        "id": "EK5eDqVZWGLV",
        "outputId": "9f36c076-4e7c-42d3-9e39-84d32d59d809"
      },
      "execution_count": null,
      "outputs": [
        {
          "output_type": "stream",
          "name": "stdout",
          "text": [
            "tensor([[1.0000, 1.0000],\n",
            "        [1.0000, 1.0000],\n",
            "        [0.7089, 0.6990],\n",
            "        [0.1772, 0.5298]])\n"
          ]
        }
      ]
    },
    {
      "cell_type": "code",
      "source": [
        "ans2 = torch.cat([A,B], dim=1)\n",
        "print(ans2)"
      ],
      "metadata": {
        "colab": {
          "base_uri": "https://localhost:8080/"
        },
        "id": "u1enJ0-QWrCn",
        "outputId": "fd1fcb18-693f-4cb0-d4d8-21a1e6925d34"
      },
      "execution_count": null,
      "outputs": [
        {
          "output_type": "stream",
          "name": "stdout",
          "text": [
            "tensor([[1.0000, 1.0000, 0.7089, 0.6990],\n",
            "        [1.0000, 1.0000, 0.1772, 0.5298]])\n"
          ]
        }
      ]
    },
    {
      "cell_type": "markdown",
      "source": [
        "Task 2: Stack\n",
        "2.1 Stack A and B along dim=0, dim=1, and dim=2.\n",
        "\n",
        "    What’s the shape each time?\n",
        "\n",
        "    What happens to the rank (number of dimensions)?"
      ],
      "metadata": {
        "id": "qrlb2UOPW7Yf"
      }
    },
    {
      "cell_type": "code",
      "source": [
        "anstack1 = torch.stack([A,B], dim=0)"
      ],
      "metadata": {
        "id": "seWjC7lBW6-c"
      },
      "execution_count": null,
      "outputs": []
    },
    {
      "cell_type": "code",
      "source": [
        "anstack2 = torch.stack([A,B], dim = 1)\n",
        "anstack3 = torch.stack([A,B],dim=2)"
      ],
      "metadata": {
        "id": "Cp7Pmp5CW0Y1"
      },
      "execution_count": null,
      "outputs": []
    },
    {
      "cell_type": "code",
      "source": [
        "print(anstack1,anstack2,anstack3)\n",
        "print(anstack1.shape,anstack2.shape,anstack3.shape)\n",
        "\n"
      ],
      "metadata": {
        "colab": {
          "base_uri": "https://localhost:8080/"
        },
        "id": "uKr4FxgDZx3e",
        "outputId": "21a96c92-9e03-428b-9335-c1eaeaa1c386"
      },
      "execution_count": null,
      "outputs": [
        {
          "output_type": "stream",
          "name": "stdout",
          "text": [
            "tensor([[[1.0000, 1.0000],\n",
            "         [1.0000, 1.0000]],\n",
            "\n",
            "        [[0.7089, 0.6990],\n",
            "         [0.1772, 0.5298]]]) tensor([[[1.0000, 1.0000],\n",
            "         [0.7089, 0.6990]],\n",
            "\n",
            "        [[1.0000, 1.0000],\n",
            "         [0.1772, 0.5298]]]) tensor([[[1.0000, 0.7089],\n",
            "         [1.0000, 0.6990]],\n",
            "\n",
            "        [[1.0000, 0.1772],\n",
            "         [1.0000, 0.5298]]])\n",
            "torch.Size([2, 2, 2]) torch.Size([2, 2, 2]) torch.Size([2, 2, 2])\n"
          ]
        }
      ]
    },
    {
      "cell_type": "code",
      "source": [],
      "metadata": {
        "id": "stfazhHXZ1K9"
      },
      "execution_count": null,
      "outputs": []
    }
  ]
}