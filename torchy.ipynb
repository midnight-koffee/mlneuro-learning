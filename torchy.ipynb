{
  "nbformat": 4,
  "nbformat_minor": 0,
  "metadata": {
    "colab": {
      "provenance": [],
      "gpuType": "T4",
      "authorship_tag": "ABX9TyP5uL1ihT9ximApGq1U6Pke",
      "include_colab_link": true
    },
    "kernelspec": {
      "name": "python3",
      "display_name": "Python 3"
    },
    "language_info": {
      "name": "python"
    },
    "accelerator": "GPU"
  },
  "cells": [
    {
      "cell_type": "markdown",
      "metadata": {
        "id": "view-in-github",
        "colab_type": "text"
      },
      "source": [
        "<a href=\"https://colab.research.google.com/github/midnight-koffee/mlneuro-learning/blob/main/torchy.ipynb\" target=\"_parent\"><img src=\"https://colab.research.google.com/assets/colab-badge.svg\" alt=\"Open In Colab\"/></a>"
      ]
    },
    {
      "cell_type": "code",
      "source": [
        "\n",
        "# 1. Clone your repo fresh (this wipes previous clones)\n",
        "!rm -rf mlneuro-learning\n",
        "!git clone https://github.com/midnight-koffee/mlneuro-learning.git\n",
        "%cd mlneuro-learning\n"
      ],
      "metadata": {
        "colab": {
          "base_uri": "https://localhost:8080/"
        },
        "id": "JSETZC7N7xmh",
        "outputId": "f76aba90-d4e5-4e59-d41b-476b2e0e3816"
      },
      "execution_count": 19,
      "outputs": [
        {
          "output_type": "stream",
          "name": "stdout",
          "text": [
            "Cloning into 'mlneuro-learning'...\n",
            "remote: Enumerating objects: 16, done.\u001b[K\n",
            "remote: Counting objects: 100% (16/16), done.\u001b[K\n",
            "remote: Compressing objects: 100% (10/10), done.\u001b[K\n",
            "remote: Total 16 (delta 3), reused 11 (delta 1), pack-reused 0 (from 0)\u001b[K\n",
            "Receiving objects: 100% (16/16), done.\n",
            "Resolving deltas: 100% (3/3), done.\n",
            "/mlneuro-learning\n"
          ]
        }
      ]
    },
    {
      "cell_type": "code",
      "source": [
        "# 2. Move this notebook (torchy.ipynb) into the repo\n",
        "!mv /content/torchy.ipynb /content/mlneuro-learning/\n",
        "%cd /content/mlneuro-learning\n"
      ],
      "metadata": {
        "id": "Lz54d4hVMJIA",
        "outputId": "c95b42aa-1a7b-4f28-f437-1746fb46fc1a",
        "colab": {
          "base_uri": "https://localhost:8080/"
        }
      },
      "execution_count": 20,
      "outputs": [
        {
          "output_type": "stream",
          "name": "stdout",
          "text": [
            "mv: cannot stat '/content/torchy.ipynb': No such file or directory\n",
            "[Errno 2] No such file or directory: '/content/mlneuro-learning'\n",
            "/mlneuro-learning\n"
          ]
        }
      ]
    },
    {
      "cell_type": "code",
      "execution_count": 1,
      "metadata": {
        "id": "xxJVjdb60XTi"
      },
      "outputs": [],
      "source": [
        "import numpy as np"
      ]
    },
    {
      "cell_type": "code",
      "source": [
        "import torch"
      ],
      "metadata": {
        "id": "QsgV37-B017L"
      },
      "execution_count": 2,
      "outputs": []
    },
    {
      "cell_type": "code",
      "source": [
        "tensor = torch.rand(3, 4).to(\"cuda\")  # This sends tensor to the T4 GPU\n",
        "\n",
        "\n",
        "print(f\"Shape of tensor: {tensor.shape}\")\n",
        "print(f\"Datatype of tensor: {tensor.dtype}\")\n",
        "print(f\"Device tensor is stored on: {tensor.device}\")"
      ],
      "metadata": {
        "colab": {
          "base_uri": "https://localhost:8080/"
        },
        "id": "jrhRP4nG02qf",
        "outputId": "0b8095ec-2d56-4681-a090-2249514eacc0"
      },
      "execution_count": 3,
      "outputs": [
        {
          "output_type": "stream",
          "name": "stdout",
          "text": [
            "Shape of tensor: torch.Size([3, 4])\n",
            "Datatype of tensor: torch.float32\n",
            "Device tensor is stored on: cuda:0\n"
          ]
        }
      ]
    },
    {
      "cell_type": "code",
      "source": [
        "import time\n",
        "\n",
        "# Big tensor on CPU\n",
        "a_cpu = torch.rand(5000, 5000)\n",
        "b_cpu = torch.rand(5000, 5000)\n",
        "\n",
        "start = time.time()\n",
        "c_cpu = a_cpu @ b_cpu\n",
        "print(\"CPU time:\", time.time() - start)\n",
        "\n",
        "# Big tensor on GPU\n",
        "a_gpu = a_cpu.to(\"cuda\")\n",
        "b_gpu = b_cpu.to(\"cuda\")\n",
        "\n",
        "start = time.time()\n",
        "c_gpu = a_gpu @ b_gpu\n",
        "torch.cuda.synchronize()  # Wait for GPU to finish\n",
        "print(\"GPU time:\", time.time() - start)\n"
      ],
      "metadata": {
        "colab": {
          "base_uri": "https://localhost:8080/"
        },
        "id": "nsgWFNPv05oe",
        "outputId": "91058cd4-d195-41b9-fdb5-f607ca907b17"
      },
      "execution_count": 4,
      "outputs": [
        {
          "output_type": "stream",
          "name": "stdout",
          "text": [
            "CPU time: 4.582198858261108\n",
            "GPU time: 0.22019672393798828\n"
          ]
        }
      ]
    },
    {
      "cell_type": "code",
      "source": [
        "!ls\n"
      ],
      "metadata": {
        "colab": {
          "base_uri": "https://localhost:8080/"
        },
        "id": "JteM8jhL7uCz",
        "outputId": "6a8d3534-d683-41af-838f-225e5f58ed86"
      },
      "execution_count": 5,
      "outputs": [
        {
          "output_type": "stream",
          "name": "stdout",
          "text": [
            "sample_data\n"
          ]
        }
      ]
    },
    {
      "cell_type": "code",
      "source": [
        "cd code/"
      ],
      "metadata": {
        "colab": {
          "base_uri": "https://localhost:8080/"
        },
        "id": "QeYA5QBD177a",
        "outputId": "aaaef20a-d842-4e20-eb29-906ddb659dd0"
      },
      "execution_count": 6,
      "outputs": [
        {
          "output_type": "stream",
          "name": "stdout",
          "text": [
            "[Errno 2] No such file or directory: 'code/'\n",
            "/content\n"
          ]
        }
      ]
    },
    {
      "cell_type": "code",
      "source": [
        "!ls"
      ],
      "metadata": {
        "colab": {
          "base_uri": "https://localhost:8080/"
        },
        "id": "dEDSjj-X8R1X",
        "outputId": "18175ae6-cb25-435f-99a0-d7c7947aa925"
      },
      "execution_count": 7,
      "outputs": [
        {
          "output_type": "stream",
          "name": "stdout",
          "text": [
            "sample_data\n"
          ]
        }
      ]
    },
    {
      "cell_type": "code",
      "source": [
        "cd code_folder_1/\n"
      ],
      "metadata": {
        "colab": {
          "base_uri": "https://localhost:8080/"
        },
        "id": "AuCCk-UB8Teg",
        "outputId": "1a8e8f11-97ea-4d1b-8d8d-38d38fe31536"
      },
      "execution_count": 8,
      "outputs": [
        {
          "output_type": "stream",
          "name": "stdout",
          "text": [
            "[Errno 2] No such file or directory: 'code_folder_1/'\n",
            "/content\n"
          ]
        }
      ]
    },
    {
      "cell_type": "code",
      "source": [
        "!ls"
      ],
      "metadata": {
        "colab": {
          "base_uri": "https://localhost:8080/"
        },
        "id": "mhpxuEZc8WxC",
        "outputId": "12a4077a-63d6-41de-d94c-ec92bc95d4c4"
      },
      "execution_count": 9,
      "outputs": [
        {
          "output_type": "stream",
          "name": "stdout",
          "text": [
            "sample_data\n"
          ]
        }
      ]
    },
    {
      "cell_type": "code",
      "source": [
        "# Example: to open test_script.py\n",
        "!cat code/test_script.py\n"
      ],
      "metadata": {
        "colab": {
          "base_uri": "https://localhost:8080/"
        },
        "id": "CRVHJfje8YOW",
        "outputId": "75380103-1172-4171-fc2b-cc137e05b33c"
      },
      "execution_count": 10,
      "outputs": [
        {
          "output_type": "stream",
          "name": "stdout",
          "text": [
            "cat: code/test_script.py: No such file or directory\n"
          ]
        }
      ]
    },
    {
      "cell_type": "code",
      "source": [
        "!cat test2.py"
      ],
      "metadata": {
        "colab": {
          "base_uri": "https://localhost:8080/"
        },
        "id": "0Tt59bHU8hLX",
        "outputId": "e5ca1c52-2ef1-4430-ee83-2f5fc878b43f"
      },
      "execution_count": 11,
      "outputs": [
        {
          "output_type": "stream",
          "name": "stdout",
          "text": [
            "cat: test2.py: No such file or directory\n"
          ]
        }
      ]
    },
    {
      "cell_type": "code",
      "source": [
        "cd ../\n"
      ],
      "metadata": {
        "colab": {
          "base_uri": "https://localhost:8080/"
        },
        "id": "8nxPpL0u8lkW",
        "outputId": "ea29ec80-69a6-42e4-845e-b2038439de38"
      },
      "execution_count": 12,
      "outputs": [
        {
          "output_type": "stream",
          "name": "stdout",
          "text": [
            "/\n"
          ]
        }
      ]
    },
    {
      "cell_type": "code",
      "source": [
        "!cat test_script.py"
      ],
      "metadata": {
        "colab": {
          "base_uri": "https://localhost:8080/"
        },
        "id": "LRus0wdJ8nA5",
        "outputId": "0fdd1dd7-1d5c-4af7-8aff-9bfb10ab511b"
      },
      "execution_count": 13,
      "outputs": [
        {
          "output_type": "stream",
          "name": "stdout",
          "text": [
            "cat: test_script.py: No such file or directory\n"
          ]
        }
      ]
    },
    {
      "cell_type": "code",
      "source": [
        "cd ../"
      ],
      "metadata": {
        "colab": {
          "base_uri": "https://localhost:8080/"
        },
        "id": "-5mqPaZw8rwq",
        "outputId": "0dbfee00-dbf6-42b8-a31e-6a4ee3222122"
      },
      "execution_count": 14,
      "outputs": [
        {
          "output_type": "stream",
          "name": "stdout",
          "text": [
            "/\n"
          ]
        }
      ]
    },
    {
      "cell_type": "code",
      "source": [
        "!ls -l"
      ],
      "metadata": {
        "colab": {
          "base_uri": "https://localhost:8080/"
        },
        "id": "QY1PelaV8vgC",
        "outputId": "9157762e-ed96-412a-95c2-0342e49cf95e"
      },
      "execution_count": 15,
      "outputs": [
        {
          "output_type": "stream",
          "name": "stdout",
          "text": [
            "total 448\n",
            "lrwxrwxrwx   1 root root      7 Jun 27  2024 bin -> usr/bin\n",
            "drwxr-xr-x   2 root root   4096 Apr 18  2022 boot\n",
            "drwxr-xr-x   1 root root   4096 May 14 13:38 content\n",
            "-rw-r--r--   1 root root   4332 Jul 10  2024 cuda-keyring_1.1-1_all.deb\n",
            "drwxr-xr-x   1 root root   4096 May 14 13:52 datalab\n",
            "drwxr-xr-x   6 root root    460 May 27 14:31 dev\n",
            "drwxr-xr-x   1 root root   4096 May 27 14:31 etc\n",
            "drwxr-xr-x   2 root root   4096 Apr 18  2022 home\n",
            "drwxr-xr-x   3 root root   4096 May 27 14:31 kaggle\n",
            "lrwxrwxrwx   1 root root      7 Jun 27  2024 lib -> usr/lib\n",
            "lrwxrwxrwx   1 root root      9 Jun 27  2024 lib32 -> usr/lib32\n",
            "lrwxrwxrwx   1 root root      9 Jun 27  2024 lib64 -> usr/lib64\n",
            "lrwxrwxrwx   1 root root     10 Jun 27  2024 libx32 -> usr/libx32\n",
            "drwxr-xr-x   2 root root   4096 Jun 27  2024 media\n",
            "drwxr-xr-x   2 root root   4096 Jun 27  2024 mnt\n",
            "-rw-r--r--   1 root root  17294 Jul 10  2024 NGC-DL-CONTAINER-LICENSE\n",
            "drwxr-xr-x   1 root root   4096 May 27 14:31 opt\n",
            "dr-xr-xr-x 219 root root      0 May 27 14:31 proc\n",
            "drwxrwxr-x  14 root root   4096 May 14 13:20 python-apt\n",
            "-r-xr-xr-x   1 root root 346012 Jan  1  2000 python-apt.tar.xz\n",
            "drwx------   1 root root   4096 May 27 14:34 root\n",
            "drwxr-xr-x   1 root root   4096 May 14 13:14 run\n",
            "lrwxrwxrwx   1 root root      8 Jun 27  2024 sbin -> usr/sbin\n",
            "drwxr-xr-x   2 root root   4096 Jun 27  2024 srv\n",
            "dr-xr-xr-x  13 root root      0 May 27 14:31 sys\n",
            "drwxrwxrwt   1 root root   4096 May 27 14:34 tmp\n",
            "drwxr-xr-x   1 root root   4096 May 14 13:52 tools\n",
            "drwxr-xr-x   1 root root   4096 May 27 14:31 usr\n",
            "drwxr-xr-x   1 root root   4096 May 14 13:52 var\n"
          ]
        }
      ]
    },
    {
      "cell_type": "code",
      "source": [
        "!cat README.md"
      ],
      "metadata": {
        "colab": {
          "base_uri": "https://localhost:8080/"
        },
        "id": "RUSaJvtG806u",
        "outputId": "1da0b5ab-a178-4c21-a189-6c10ff97aba9"
      },
      "execution_count": 16,
      "outputs": [
        {
          "output_type": "stream",
          "name": "stdout",
          "text": [
            "cat: README.md: No such file or directory\n"
          ]
        }
      ]
    },
    {
      "cell_type": "code",
      "source": [
        "import os\n",
        "os.getcwd()\n"
      ],
      "metadata": {
        "colab": {
          "base_uri": "https://localhost:8080/",
          "height": 35
        },
        "id": "jLGLIS_CC44q",
        "outputId": "8d9d1b14-c9fd-48b6-ebef-577f1e41594e"
      },
      "execution_count": 17,
      "outputs": [
        {
          "output_type": "execute_result",
          "data": {
            "text/plain": [
              "'/'"
            ],
            "application/vnd.google.colaboratory.intrinsic+json": {
              "type": "string"
            }
          },
          "metadata": {},
          "execution_count": 17
        }
      ]
    },
    {
      "cell_type": "code",
      "source": [
        "!git status\n",
        "\n"
      ],
      "metadata": {
        "id": "DWV-BFOPEhRH",
        "colab": {
          "base_uri": "https://localhost:8080/"
        },
        "outputId": "6d60f7f2-86e2-4929-9e68-d04cb0a26a2a"
      },
      "execution_count": 18,
      "outputs": [
        {
          "output_type": "stream",
          "name": "stdout",
          "text": [
            "fatal: not a git repository (or any of the parent directories): .git\n"
          ]
        }
      ]
    },
    {
      "cell_type": "code",
      "source": [],
      "metadata": {
        "id": "QQMTgO6RKwS4"
      },
      "execution_count": null,
      "outputs": []
    }
  ]
}